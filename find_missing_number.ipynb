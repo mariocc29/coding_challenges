{
 "cells": [
  {
   "cell_type": "markdown",
   "metadata": {},
   "source": [
    "# Challenge Notebook"
   ]
  },
  {
   "cell_type": "markdown",
   "metadata": {},
   "source": [
    "## Problem: You are given a list containing n distinct numbers taken from the range 0 to n. There is one number missing in the list. Write a function to find and return that missing number.\n",
    "\n",
    "* [Constraints](#Constraints)\n",
    "* [Expected Result](#Expected-Result)\n",
    "* [Code](#Code)\n",
    "* [Unit Test](#Unit-Test)"
   ]
  },
  {
   "cell_type": "markdown",
   "metadata": {},
   "source": [
    "## Expected Result\n",
    "\n",
    "* [0, 1, 3, 4, 5] => [2]\n",
    "* [3, 7, 10, 11, 12, 15] => [4, 5, 6, 8, 9, 13, 14]\n",
    "* [1, 5, 6, 8, 9, 11, 13] => [2, 3, 4, 7, 10, 12]"
   ]
  },
  {
   "cell_type": "markdown",
   "metadata": {},
   "source": [
    "## Code"
   ]
  },
  {
   "cell_type": "code",
   "execution_count": 1,
   "metadata": {},
   "outputs": [],
   "source": [
    "from typing import List\n",
    "\n",
    "def find_missing_number(numbers: List[int]) -> List[int]:\n",
    "    missing_numbers = list(range(numbers[0], numbers[-1] + 1))\n",
    "    return list(set(missing_numbers).difference(numbers))"
   ]
  },
  {
   "cell_type": "markdown",
   "metadata": {},
   "source": [
    "## Unit Test"
   ]
  },
  {
   "cell_type": "code",
   "execution_count": 2,
   "metadata": {},
   "outputs": [],
   "source": [
    "import unittest\n",
    "\n",
    "class TestFunctionName(unittest.TestCase):\n",
    "\n",
    "    def test_find_missing_number(self, func):\n",
    "        self.assertCountEqual(func([0, 1, 3, 4, 5]), [2])\n",
    "        self.assertCountEqual(func([3, 7, 10, 11, 12, 15]), [4, 5, 6, 8, 9, 13, 14])\n",
    "        self.assertCountEqual(func([1, 5, 6, 8, 9, 11, 13]), [2, 3, 4, 7, 10, 12])\n",
    "  \n",
    "def main():\n",
    "    test = TestFunctionName()\n",
    "    test.test_find_missing_number(find_missing_number)\n",
    "\n",
    "if __name__ == '__main__':\n",
    "    main()"
   ]
  }
 ],
 "metadata": {
  "kernelspec": {
   "display_name": "Python 3",
   "language": "python",
   "name": "python3"
  },
  "language_info": {
   "codemirror_mode": {
    "name": "ipython",
    "version": 3
   },
   "file_extension": ".py",
   "mimetype": "text/x-python",
   "name": "python",
   "nbconvert_exporter": "python",
   "pygments_lexer": "ipython3",
   "version": "3.12.2"
  }
 },
 "nbformat": 4,
 "nbformat_minor": 2
}
