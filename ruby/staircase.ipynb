{
 "cells": [
  {
   "cell_type": "markdown",
   "metadata": {},
   "source": [
    "# Challenge Notebook"
   ]
  },
  {
   "cell_type": "markdown",
   "metadata": {},
   "source": [
    "## Problem: write a Python function that takes in a list of integers and returns them rearranged into a staircase, if possible, or False otherwise. A staircase is a list of lists where list 0 has length 1, and every list i+1 is one item longer than list i. The order of the elements in the staircase doesn’t matter.\n",
    "\n",
    "\n",
    "* [Constraints](#Constraints)\n",
    "* [Expected Result](#Expected-Result)\n",
    "* [Code](#Code)\n",
    "* [Unit Test](#Unit-Test)"
   ]
  },
  {
   "cell_type": "markdown",
   "metadata": {},
   "source": [
    "## Constraints\n",
    "\n",
    "*"
   ]
  },
  {
   "cell_type": "markdown",
   "metadata": {},
   "source": [
    "## Expected Result\n",
    "\n",
    "* [1, 2, 3, 4, 5, 6] => [[1], [2, 3], [4, 5, 6]]\n",
    "* [1, 2, 3, 4, 5, 6, 7] => false"
   ]
  },
  {
   "cell_type": "markdown",
   "metadata": {},
   "source": [
    "## Code"
   ]
  },
  {
   "cell_type": "code",
   "execution_count": 1,
   "metadata": {},
   "outputs": [
    {
     "data": {
      "text/plain": [
       ":staircase"
      ]
     },
     "execution_count": 1,
     "metadata": {},
     "output_type": "execute_result"
    }
   ],
   "source": [
    "class CodingChallenger\n",
    "  \n",
    "\tdef staircase(numbers)\n",
    "\t\tstep = 1\n",
    "\t\tsubsets = []\n",
    "\n",
    "\t\twhile numbers.size > 0 do\n",
    "\t\t\tif numbers.size >= step\n",
    "\t\t\t\tsubsets << numbers[0, step]\n",
    "\t\t\t\tnumbers = numbers[step..-1]\n",
    "\t\t\t\tstep = step + 1\n",
    "\t\t\telse\n",
    "\t\t\t\treturn false\n",
    "\t\t\tend\n",
    "\t\tend\n",
    "\n",
    "\t\tsubsets\n",
    "\tend\n",
    "end\n"
   ]
  },
  {
   "cell_type": "markdown",
   "metadata": {},
   "source": [
    "## Unit Test"
   ]
  },
  {
   "cell_type": "code",
   "execution_count": 2,
   "metadata": {},
   "outputs": [
    {
     "data": {
      "text/plain": [
       "true"
      ]
     },
     "execution_count": 2,
     "metadata": {},
     "output_type": "execute_result"
    }
   ],
   "source": [
    "require 'rspec'\n",
    "\n",
    "test_case = RSpec.describe CodingChallenger do\n",
    "\n",
    "\tsubject { described_class.new }\n",
    "\n",
    "  it \"returns expected result\", :aggregate_failures do\n",
    "\t\texpect(subject.staircase([1, 2, 3, 4, 5, 6])).to eql([[1], [2, 3], [4, 5, 6]])\n",
    "\t\texpect(subject.staircase([1, 2, 3, 4, 5, 6, 7])).to be_falsy\n",
    "  end\n",
    "end\n",
    "\n",
    "test_case.run"
   ]
  }
 ],
 "metadata": {
  "kernelspec": {
   "display_name": "Ruby 3.2.3",
   "language": "ruby",
   "name": "ruby"
  },
  "language_info": {
   "file_extension": ".rb",
   "mimetype": "application/x-ruby",
   "name": "ruby",
   "version": "3.2.3"
  }
 },
 "nbformat": 4,
 "nbformat_minor": 2
}
