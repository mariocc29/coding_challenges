{
 "cells": [
  {
   "cell_type": "markdown",
   "metadata": {},
   "source": [
    "# Challenge Notebook"
   ]
  },
  {
   "cell_type": "markdown",
   "metadata": {},
   "source": [
    "## Problem: Given a collection of intervals, merge overlapping intervals.\n",
    "\n",
    "* [Constraints](#Constraints)\n",
    "* [Expected Result](#Expected-Result)\n",
    "* [Code](#Code)\n",
    "* [Unit Test](#Unit-Test)"
   ]
  },
  {
   "cell_type": "markdown",
   "metadata": {},
   "source": [
    "## Constraints\n",
    "\n",
    "* "
   ]
  },
  {
   "cell_type": "markdown",
   "metadata": {},
   "source": [
    "## Expected Result\n",
    "\n",
    "* [[1, 3], [2, 6], [8, 10], [15, 18]] => [[1, 6], [8, 10], [15, 18]]"
   ]
  },
  {
   "cell_type": "markdown",
   "metadata": {},
   "source": [
    "## Code"
   ]
  },
  {
   "cell_type": "code",
   "execution_count": 1,
   "metadata": {},
   "outputs": [
    {
     "data": {
      "text/plain": [
       ":merge_intervals"
      ]
     },
     "execution_count": 1,
     "metadata": {},
     "output_type": "execute_result"
    }
   ],
   "source": [
    "class CodingChallenger\n",
    "  \n",
    "\tdef merge_intervals(intervals)\n",
    "\t\treturn [] if intervals.empty?\n",
    "\n",
    "    sorted_intervals = intervals.sort\n",
    "    \n",
    "    merged_intervals = [sorted_intervals[0]]\n",
    "    \n",
    "    sorted_intervals[1..].each do |current_interval|\n",
    "      last_merged_interval = merged_intervals[-1]\n",
    "      \n",
    "      if current_interval[0] <= last_merged_interval[1]\n",
    "        last_merged_interval[1] = [last_merged_interval[1], current_interval[1]].max\n",
    "      else\n",
    "        merged_intervals << current_interval\n",
    "      end\n",
    "    end\n",
    "    \n",
    "    merged_intervals\n",
    "\tend\n",
    "end"
   ]
  },
  {
   "cell_type": "markdown",
   "metadata": {},
   "source": [
    "## Unit Test"
   ]
  },
  {
   "cell_type": "code",
   "execution_count": 2,
   "metadata": {},
   "outputs": [
    {
     "data": {
      "text/plain": [
       "true"
      ]
     },
     "execution_count": 2,
     "metadata": {},
     "output_type": "execute_result"
    }
   ],
   "source": [
    "require 'rspec'\n",
    "\n",
    "test_case = RSpec.describe CodingChallenger do\n",
    "\n",
    "\tsubject { described_class.new }\n",
    "\n",
    "  it \"returns expected result\", :aggregate_failures do\n",
    "\t\texpect(subject.merge_intervals([[1, 3], [2, 6], [8, 10], [15, 18]])).to eql([[1, 6], [8, 10], [15, 18]])\n",
    "\t\texpect(subject.merge_intervals([[1, 5], [2, 3], [4, 5], [6, 8], [7, 9]])).to eql([[1, 5], [6, 9]])\n",
    "  end\n",
    "end\n",
    "\n",
    "test_case.run"
   ]
  }
 ],
 "metadata": {
  "kernelspec": {
   "display_name": "Ruby 3.2.3",
   "language": "ruby",
   "name": "ruby"
  },
  "language_info": {
   "file_extension": ".rb",
   "mimetype": "application/x-ruby",
   "name": "ruby",
   "version": "3.2.3"
  }
 },
 "nbformat": 4,
 "nbformat_minor": 2
}
