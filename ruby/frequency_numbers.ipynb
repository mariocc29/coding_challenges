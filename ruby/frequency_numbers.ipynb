{
 "cells": [
  {
   "cell_type": "markdown",
   "metadata": {},
   "source": [
    "# Challenge Notebook"
   ]
  },
  {
   "cell_type": "markdown",
   "metadata": {},
   "source": [
    "## Problem: Given an input integer n, create a while loop that utilizes arithmetic to store the frequency of each digit present in n in a dictionary frequency_map. The input number n will be provided as a numeric data type, not a string. For each loop iteration, you must update frequency_map before reducing n\n",
    "\n",
    "* [Constraints](#Constraints)\n",
    "* [Expected Result](#Expected-Result)\n",
    "* [Code](#Code)\n",
    "* [Unit Test](#Unit-Test)"
   ]
  },
  {
   "cell_type": "markdown",
   "metadata": {},
   "source": [
    "## Constraints\n",
    "\n",
    "*"
   ]
  },
  {
   "cell_type": "markdown",
   "metadata": {},
   "source": [
    "## Expected Result\n",
    "\n",
    "* 12345678987654321 => {1=>2, 2=>2, 3=>2, 4=>2, 5=>2, 6=>2, 7=>2, 8=>2, 9=>1}\n",
    "* 111233334566 => {1=>2, 2=>2, 3=>2, 4=>2, 5=>2, 6=>2}"
   ]
  },
  {
   "cell_type": "markdown",
   "metadata": {},
   "source": [
    "## Code"
   ]
  },
  {
   "cell_type": "code",
   "execution_count": 1,
   "metadata": {},
   "outputs": [
    {
     "data": {
      "text/plain": [
       ":frequency_numbers"
      ]
     },
     "execution_count": 1,
     "metadata": {},
     "output_type": "execute_result"
    }
   ],
   "source": [
    "class CodingChallenger\n",
    "  \n",
    "\tdef frequency_numbers(number)\n",
    "\t\tfrequency_map = {}\n",
    "\t\t\n",
    "\t\twhile number > 0 do\n",
    "\t\t\tdigit = number % 10\n",
    "\t\t\tif frequency_map.include? digit\n",
    "\t\t\t\tfrequency_map[digit] = frequency_map[digit].to_i + 1\n",
    "\t\t\telse\n",
    "\t\t\t\tfrequency_map[digit] = 1\n",
    "\t\t\tend\n",
    "\t\t\tnumber /= 10\n",
    "\t\tend\n",
    "\n",
    "\t\tfrequency_map\n",
    "\tend\n",
    "end"
   ]
  },
  {
   "cell_type": "markdown",
   "metadata": {},
   "source": [
    "## Unit Test"
   ]
  },
  {
   "cell_type": "code",
   "execution_count": 2,
   "metadata": {},
   "outputs": [
    {
     "data": {
      "text/plain": [
       "true"
      ]
     },
     "execution_count": 2,
     "metadata": {},
     "output_type": "execute_result"
    }
   ],
   "source": [
    "require 'rspec'\n",
    "\n",
    "test_case = RSpec.describe CodingChallenger do\n",
    "\n",
    "\tsubject { described_class.new }\n",
    "\n",
    "  it \"returns expected result\", :aggregate_failures do\n",
    "\t\texpect(subject.frequency_numbers(12345678987654321)).to eql({1=>2, 2=>2, 3=>2, 4=>2, 5=>2, 6=>2, 7=>2, 8=>2, 9=>1})\n",
    "\t\texpect(subject.frequency_numbers(111233334566)).to eql({1=>3, 2=>1, 3=>4, 4=>1, 5=>1, 6=>2})\n",
    "  end\n",
    "end\n",
    "\n",
    "test_case.run"
   ]
  }
 ],
 "metadata": {
  "kernelspec": {
   "display_name": "Ruby 3.2.3",
   "language": "ruby",
   "name": "ruby"
  },
  "language_info": {
   "file_extension": ".rb",
   "mimetype": "application/x-ruby",
   "name": "ruby",
   "version": "3.2.3"
  }
 },
 "nbformat": 4,
 "nbformat_minor": 2
}
