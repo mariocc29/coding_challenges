{
 "cells": [
  {
   "cell_type": "markdown",
   "metadata": {},
   "source": [
    "# Challenge Notebook"
   ]
  },
  {
   "cell_type": "markdown",
   "metadata": {},
   "source": [
    "## Problem: Please create a pseudocode function that will check if all the words in an array are palindromes. A palindrome is a word, phrase, number, or other sequences that reads the same backward as forward. \n",
    "\n",
    "* [Constraints](#Constraints)\n",
    "* [Expected Result](#Expected-Result)\n",
    "* [Code](#Code)\n",
    "* [Unit Test](#Unit-Test)"
   ]
  },
  {
   "cell_type": "markdown",
   "metadata": {},
   "source": [
    "## Constraints\n",
    "\n",
    "* Ignore spaces, punctuation, and capitalization.\n",
    "* Don't use sorting precompiled functions"
   ]
  },
  {
   "cell_type": "markdown",
   "metadata": {},
   "source": [
    "## Expected Result\n",
    "\n",
    "* ['racecar', 'noon', 'civic'] => true\n",
    "* ['racecar', 'shoe', 'moon'] => false"
   ]
  },
  {
   "cell_type": "markdown",
   "metadata": {},
   "source": [
    "## Code"
   ]
  },
  {
   "cell_type": "code",
   "execution_count": 1,
   "metadata": {},
   "outputs": [
    {
     "data": {
      "text/plain": [
       ":reverse_word"
      ]
     },
     "execution_count": 1,
     "metadata": {},
     "output_type": "execute_result"
    }
   ],
   "source": [
    "class CodingChallenger\n",
    "  \n",
    "\tdef check_all_palindromes(strings)\n",
    "\t\tstrings.each do |string|\n",
    "\t\t\tif is_palindrome(string) == false\n",
    "\t\t\t\treturn false\n",
    "\t\t\tend\n",
    "\t\tend\n",
    "\n",
    "\t\treturn true\n",
    "\tend\n",
    "\t\n",
    "\tprivate\n",
    "\t\n",
    "\tdef is_palindrome(string)\n",
    "\t\tstring == reverse_word(string)\n",
    "\tend\n",
    "\n",
    "\tdef reverse_word(string)\n",
    "    reversed = ''\n",
    "\t\tstring.split('').each do |letter|\n",
    "\t\t\treversed = letter + reversed\n",
    "\t\tend\n",
    "\t\treversed\n",
    "  end\n",
    "end"
   ]
  },
  {
   "cell_type": "markdown",
   "metadata": {},
   "source": [
    "## Unit Test"
   ]
  },
  {
   "cell_type": "code",
   "execution_count": 2,
   "metadata": {},
   "outputs": [
    {
     "data": {
      "text/plain": [
       "true"
      ]
     },
     "execution_count": 2,
     "metadata": {},
     "output_type": "execute_result"
    }
   ],
   "source": [
    "require 'rspec'\n",
    "\n",
    "test_case = RSpec.describe CodingChallenger do\n",
    "\n",
    "\tsubject { described_class.new }\n",
    "\n",
    "  it \"returns expected result\", :aggregate_failures do\n",
    "\t\texpect(subject.check_all_palindromes(['racecar', 'noon', 'civic'])).to be_truthy\n",
    "\t\texpect(subject.check_all_palindromes(['racecar', 'shoe', 'moon'])).to be_falsy\n",
    "  end\n",
    "end\n",
    "\n",
    "test_case.run"
   ]
  }
 ],
 "metadata": {
  "kernelspec": {
   "display_name": "Ruby 3.2.3",
   "language": "ruby",
   "name": "ruby"
  },
  "language_info": {
   "file_extension": ".rb",
   "mimetype": "application/x-ruby",
   "name": "ruby",
   "version": "3.2.3"
  }
 },
 "nbformat": 4,
 "nbformat_minor": 2
}
