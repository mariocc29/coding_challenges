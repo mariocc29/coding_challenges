{
 "cells": [
  {
   "cell_type": "markdown",
   "metadata": {},
   "source": [
    "# Challenge Notebook"
   ]
  },
  {
   "cell_type": "markdown",
   "metadata": {},
   "source": [
    "## Problem: Write a function to find the longest common prefix string amongst an array of strings.\n",
    "\n",
    "* [Constraints](#Constraints)\n",
    "* [Expected Result](#Expected-Result)\n",
    "* [Code](#Code)\n",
    "* [Unit Test](#Unit-Test)"
   ]
  },
  {
   "cell_type": "markdown",
   "metadata": {},
   "source": [
    "## Constraints\n",
    "\n",
    "* If there is no common prefix, return an empty string ''."
   ]
  },
  {
   "cell_type": "markdown",
   "metadata": {},
   "source": [
    "## Expected Result\n",
    "\n",
    "* [\"apple\", \"banana\", \"orange\"] => ''\n",
    "* [\"flower\", \"flow\", \"flight\"] => 'fl'\n",
    "* [\"apple\", \"apricot\", \"appetizer\"] => 'ap'"
   ]
  },
  {
   "cell_type": "markdown",
   "metadata": {},
   "source": [
    "## Code"
   ]
  },
  {
   "cell_type": "code",
   "execution_count": 2,
   "metadata": {},
   "outputs": [],
   "source": [
    "from typing import List\n",
    "\n",
    "def longest_common_prefix(strings: List[str]) -> str:\n",
    "\n",
    "    shortest_word = min(strings, key=len)\n",
    "    prefix = ''\n",
    "\n",
    "    for key in range(len(shortest_word)):\n",
    "        chars = dict()\n",
    "        for string in strings:\n",
    "            chars[string[key]] = 1 if string[key] not in chars else chars[string[key]] + 1\n",
    "\n",
    "        max_value = max(chars.values())\n",
    "        if max_value != len(strings):\n",
    "            break\n",
    "\n",
    "        max_char = [c for c, v in chars.items() if v == max_value]\n",
    "        prefix += max_char[0]\n",
    "    \n",
    "    return prefix"
   ]
  },
  {
   "cell_type": "markdown",
   "metadata": {},
   "source": [
    "## Unit Test"
   ]
  },
  {
   "cell_type": "code",
   "execution_count": 3,
   "metadata": {},
   "outputs": [],
   "source": [
    "import unittest\n",
    "\n",
    "class TestLongestCommonPrefix(unittest.TestCase):\n",
    "    def test_longest_common_prefix(self, func):\n",
    "        self.assertEqual('fl', func([\"flower\", \"flow\", \"flight\"]))\n",
    "        self.assertEqual('', func([\"apple\", \"banana\", \"orange\"]))\n",
    "        self.assertEqual('ap', func([\"apple\", \"apricot\", \"appetizer\"]))\n",
    "  \n",
    "def main():\n",
    "    test = TestLongestCommonPrefix()\n",
    "    test.test_longest_common_prefix(longest_common_prefix)\n",
    "\n",
    "if __name__ == '__main__':\n",
    "    main()"
   ]
  },
  {
   "cell_type": "markdown",
   "metadata": {},
   "source": [
    "## Notes\n",
    "\n",
    "[Reference](https://stackoverflow.com/questions/68179984/longest-common-prefix)"
   ]
  },
  {
   "cell_type": "code",
   "execution_count": 5,
   "metadata": {},
   "outputs": [],
   "source": [
    "def longest_common_prefix(strings: List[str]) -> str:\n",
    "    assert len(strings) > 0\n",
    "    prefix = min(strings, key=len)\n",
    "\n",
    "    while not all(string.startswith(prefix) for string in strings):\n",
    "        prefix = prefix[:-1]\n",
    "    \n",
    "    return prefix"
   ]
  }
 ],
 "metadata": {
  "kernelspec": {
   "display_name": "Python 3",
   "language": "python",
   "name": "python3"
  },
  "language_info": {
   "codemirror_mode": {
    "name": "ipython",
    "version": 3
   },
   "file_extension": ".py",
   "mimetype": "text/x-python",
   "name": "python",
   "nbconvert_exporter": "python",
   "pygments_lexer": "ipython3",
   "version": "3.12.2"
  }
 },
 "nbformat": 4,
 "nbformat_minor": 2
}
