{
 "cells": [
  {
   "cell_type": "markdown",
   "metadata": {},
   "source": [
    "# Challenge Notebook"
   ]
  },
  {
   "cell_type": "markdown",
   "metadata": {},
   "source": [
    "## Problem: Write a Python function that takes a string as input and returns the same string with the words in reverse order.\n",
    "\n",
    "* [Constraints](#Constraints)\n",
    "* [Expected Result](#Expected-Result)\n",
    "* [Code](#Code)\n",
    "* [Unit Test](#Unit-Test)"
   ]
  },
  {
   "cell_type": "markdown",
   "metadata": {},
   "source": [
    "## Expected Result\n",
    "\n",
    "* 'Hola, ¿cómo estás hoy?' => 'hoy? estás ¿cómo Hola,'"
   ]
  },
  {
   "cell_type": "markdown",
   "metadata": {},
   "source": [
    "## Code"
   ]
  },
  {
   "cell_type": "code",
   "execution_count": 1,
   "metadata": {},
   "outputs": [],
   "source": [
    "def reverse_words(string: str) -> str:\n",
    "    words = string.split()\n",
    "    return ' '.join(words[::-1])"
   ]
  },
  {
   "cell_type": "markdown",
   "metadata": {},
   "source": [
    "## Unit Test"
   ]
  },
  {
   "cell_type": "code",
   "execution_count": 2,
   "metadata": {},
   "outputs": [],
   "source": [
    "import unittest\n",
    "\n",
    "class TestFunctionName(unittest.TestCase):\n",
    "\n",
    "    def test_reverse_words(self, func):\n",
    "        self.assertTrue(func('Hola, ¿cómo estás hoy?'), 'hoy? estás ¿cómo Hola,')\n",
    "  \n",
    "def main():\n",
    "    test = TestFunctionName()\n",
    "    test.test_reverse_words(reverse_words)\n",
    "\n",
    "if __name__ == '__main__':\n",
    "    main()"
   ]
  }
 ],
 "metadata": {
  "kernelspec": {
   "display_name": "Python 3",
   "language": "python",
   "name": "python3"
  },
  "language_info": {
   "codemirror_mode": {
    "name": "ipython",
    "version": 3
   },
   "file_extension": ".py",
   "mimetype": "text/x-python",
   "name": "python",
   "nbconvert_exporter": "python",
   "pygments_lexer": "ipython3",
   "version": "3.12.2"
  }
 },
 "nbformat": 4,
 "nbformat_minor": 2
}
