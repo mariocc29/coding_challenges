{
 "cells": [
  {
   "cell_type": "markdown",
   "metadata": {},
   "source": [
    "# Challenge Notebook"
   ]
  },
  {
   "cell_type": "markdown",
   "metadata": {},
   "source": [
    "## Problem: Write a Python function that takes a positive integer n as input and returns a list of prime numbers up to and including n. A prime number is a natural number greater than 1 that is not a product of two smaller natural numbers.\n",
    "\n",
    "* [Constraints](#Constraints)\n",
    "* [Expected Result](#Expected-Result)\n",
    "* [Code](#Code)\n",
    "* [Unit Test](#Unit-Test)"
   ]
  },
  {
   "cell_type": "markdown",
   "metadata": {},
   "source": [
    "## Expected Result\n",
    "\n",
    "* 20 => [2, 3, 5, 7, 11, 13, 17, 19]"
   ]
  },
  {
   "cell_type": "markdown",
   "metadata": {},
   "source": [
    "## Imports"
   ]
  },
  {
   "cell_type": "code",
   "execution_count": null,
   "metadata": {},
   "outputs": [],
   "source": []
  },
  {
   "cell_type": "markdown",
   "metadata": {},
   "source": [
    "## Code"
   ]
  },
  {
   "cell_type": "code",
   "execution_count": 97,
   "metadata": {},
   "outputs": [],
   "source": [
    "def generate_primes(number: int) -> bool:\n",
    "    limit = number + 1\n",
    "    primes = dict.fromkeys(range(2, limit), True)\n",
    "\n",
    "    for n in range(2, limit):\n",
    "        sequence = n * n\n",
    "        if sequence in primes:\n",
    "            primes[sequence] = False\n",
    "            for i in range(sequence + n, limit, n):\n",
    "                primes[i] = False\n",
    "\n",
    "    return [n for n, v in primes.items() if v == True]"
   ]
  },
  {
   "cell_type": "markdown",
   "metadata": {},
   "source": [
    "## Unit Test"
   ]
  },
  {
   "cell_type": "code",
   "execution_count": 98,
   "metadata": {},
   "outputs": [],
   "source": [
    "import unittest\n",
    "\n",
    "class TestFunctionName(unittest.TestCase):\n",
    "\n",
    "    def test_generate_primes(self, func):\n",
    "        self.assertEqual(func(20), [2, 3, 5, 7, 11, 13, 17, 19])\n",
    "  \n",
    "def main():\n",
    "    test = TestFunctionName()\n",
    "    test.test_generate_primes(generate_primes)\n",
    "\n",
    "if __name__ == '__main__':\n",
    "    main()"
   ]
  },
  {
   "cell_type": "markdown",
   "metadata": {},
   "source": [
    "## Performed Code"
   ]
  },
  {
   "cell_type": "code",
   "execution_count": null,
   "metadata": {},
   "outputs": [],
   "source": [
    "def generate_primes(n: int):\n",
    "  primes = [True] * (n + 1)\n",
    "  primes[0] = primes[1] = False\n",
    "\n",
    "  for i in range(max(2, int(n**0.5) + 1)):\n",
    "    if primes[i]:\n",
    "      for j in range(i**2, n+1, i):\n",
    "        primes[j] = False\n",
    "  \n",
    "  return [i for i in range(2, n+1) if primes[i]]"
   ]
  }
 ],
 "metadata": {
  "kernelspec": {
   "display_name": "Python 3",
   "language": "python",
   "name": "python3"
  },
  "language_info": {
   "codemirror_mode": {
    "name": "ipython",
    "version": 3
   },
   "file_extension": ".py",
   "mimetype": "text/x-python",
   "name": "python",
   "nbconvert_exporter": "python",
   "pygments_lexer": "ipython3",
   "version": "3.12.2"
  }
 },
 "nbformat": 4,
 "nbformat_minor": 2
}
