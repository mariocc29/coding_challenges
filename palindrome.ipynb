{
 "cells": [
  {
   "cell_type": "markdown",
   "metadata": {},
   "source": [
    "# Challenge Notebook"
   ]
  },
  {
   "cell_type": "markdown",
   "metadata": {},
   "source": [
    "## Problem: Write a Python function to check if a given string is a palindrome. A palindrome is a word, phrase, number, or other sequences that reads the same backward as forward. \n",
    "\n",
    "* [Constraints](#Constraints)\n",
    "* [Expected Result](#Expected-Result)\n",
    "* [Code](#Code)\n",
    "* [Unit Test](#Unit-Test)"
   ]
  },
  {
   "cell_type": "markdown",
   "metadata": {},
   "source": [
    "## Constraints\n",
    "\n",
    "* Ignore spaces, punctuation, and capitalization."
   ]
  },
  {
   "cell_type": "markdown",
   "metadata": {},
   "source": [
    "## Expected Result\n",
    "\n",
    "* 'A man a plan a canal Panama' => True\n",
    "* 'Hello World' => False"
   ]
  },
  {
   "cell_type": "markdown",
   "metadata": {},
   "source": [
    "## Code"
   ]
  },
  {
   "cell_type": "code",
   "execution_count": 18,
   "metadata": {},
   "outputs": [],
   "source": [
    "import re\n",
    "\n",
    "def is_palindrome(string: str) -> bool:\n",
    "    clean_string = re.sub('[^(A-Za-z)]', '', string.lower())\n",
    "    reversed_string = clean_string[::-1]\n",
    "    return clean_string == reversed_string"
   ]
  },
  {
   "cell_type": "markdown",
   "metadata": {},
   "source": [
    "## Unit Test"
   ]
  },
  {
   "cell_type": "code",
   "execution_count": 19,
   "metadata": {},
   "outputs": [],
   "source": [
    "import unittest\n",
    "\n",
    "class TestFunctionName(unittest.TestCase):\n",
    "\n",
    "    def test_is_palindrome(self, func):\n",
    "        self.assertTrue(func('A man a plan a canal Panama'))\n",
    "        self.assertFalse(func('Hello World'))\n",
    "  \n",
    "def main():\n",
    "    test = TestFunctionName()\n",
    "    test.test_is_palindrome(is_palindrome)\n",
    "\n",
    "if __name__ == '__main__':\n",
    "    main()"
   ]
  },
  {
   "cell_type": "markdown",
   "metadata": {},
   "source": [
    "## Performed Code\n",
    "\n",
    "[Reference]()"
   ]
  },
  {
   "cell_type": "code",
   "execution_count": null,
   "metadata": {},
   "outputs": [],
   "source": [
    "def method_name(args: int) -> bool:\n",
    "    return True"
   ]
  }
 ],
 "metadata": {
  "kernelspec": {
   "display_name": "Python 3",
   "language": "python",
   "name": "python3"
  },
  "language_info": {
   "codemirror_mode": {
    "name": "ipython",
    "version": 3
   },
   "file_extension": ".py",
   "mimetype": "text/x-python",
   "name": "python",
   "nbconvert_exporter": "python",
   "pygments_lexer": "ipython3",
   "version": "3.12.2"
  }
 },
 "nbformat": 4,
 "nbformat_minor": 2
}
