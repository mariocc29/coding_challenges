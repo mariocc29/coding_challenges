{
 "cells": [
  {
   "cell_type": "markdown",
   "metadata": {},
   "source": [
    "# Challenge Notebook"
   ]
  },
  {
   "cell_type": "markdown",
   "metadata": {},
   "source": [
    "## Problem: Write a Python function that takes a text string as input and returns a dictionary counting the frequency of each word in the string.\n",
    "\n",
    "* [Constraints](#Constraints)\n",
    "* [Expected Result](#Expected-Result)\n",
    "* [Code](#Code)\n",
    "* [Unit Test](#Unit-Test)"
   ]
  },
  {
   "cell_type": "markdown",
   "metadata": {},
   "source": [
    "## Constraints\n",
    "\n",
    "* Ignore case, and consider a word as any sequence of alphabetic characters separated by spaces"
   ]
  },
  {
   "cell_type": "markdown",
   "metadata": {},
   "source": [
    "## Expected Result\n",
    "\n",
    "* 'This is a simple test. Simple test, simple case.' => {'this':1, 'is':1, 'a':1, 'simple':3, 'test':2, 'case':1}\n",
    "* 'Python is a powerful programming language. Python is versatile and easy to learn.' => {'python':2, 'is':2, 'a':1, 'powerful':1, 'programming':1, 'language':1, 'versatile':1, 'and':1, 'easy':1, 'to':1, 'learn':1}\n",
    "* 'The quick brown fox jumps over the lazy dog. The lazy dog barks, and the fox runs away.' => {'the':3, 'quick':1, 'brown':1, 'fox':2, 'jumps':1, 'over':1, 'lazy':2, 'dog':2, 'barks':1, 'and':1, 'runs':1, 'away':1}\n"
   ]
  },
  {
   "cell_type": "markdown",
   "metadata": {},
   "source": [
    "## Code"
   ]
  },
  {
   "cell_type": "code",
   "execution_count": null,
   "metadata": {},
   "outputs": [],
   "source": [
    "import re\n",
    "\n",
    "def count_words(string: str) -> dict:\n",
    "    clean_string = re.sub('[^a-z ]', '', string.lower())\n",
    "    words = dict()\n",
    "\n",
    "    for word in clean_string.split():\n",
    "        words[word] = 1 if word not in words else words[word] + 1\n",
    "\n",
    "    return words"
   ]
  },
  {
   "cell_type": "markdown",
   "metadata": {},
   "source": [
    "## Unit Test"
   ]
  },
  {
   "cell_type": "code",
   "execution_count": null,
   "metadata": {},
   "outputs": [],
   "source": [
    "import unittest\n",
    "\n",
    "class TestFunctionName(unittest.TestCase):\n",
    "\n",
    "    def test_count_words(self, func):\n",
    "        string_1 = 'This is a simple test. Simple test, simple case.'\n",
    "        expected_result_1 = {'this':1, 'is':1, 'a':1, 'simple':3, 'test':2, 'case':1}\n",
    "        self.assertCountEqual(func(string_1), expected_result_1)\n",
    "\n",
    "        string_2 = 'Python is a powerful programming language. Python is versatile and easy to learn.'\n",
    "        expected_result_2 = {'python':2, 'is':2, 'a':1, 'powerful':1, 'programming':1, 'language':1, 'versatile':1, 'and':1, 'easy':1, 'to':1, 'learn':1}\n",
    "        self.assertCountEqual(func(string_2), expected_result_2)\n",
    "\n",
    "        string_3 = 'The quick brown fox jumps over the lazy dog. The lazy dog barks, and the fox runs away..'\n",
    "        expected_result_3 = {'the':3, 'quick':1, 'brown':1, 'fox':2, 'jumps':1, 'over':1, 'lazy':2, 'dog':2, 'barks':1, 'and':1, 'runs':1, 'away':1}\n",
    "        self.assertCountEqual(func(string_3), expected_result_3)\n",
    "  \n",
    "def main():\n",
    "    test = TestFunctionName()\n",
    "    test.test_count_words(count_words)\n",
    "\n",
    "if __name__ == '__main__':\n",
    "    main()"
   ]
  }
 ],
 "metadata": {
  "kernelspec": {
   "display_name": "Python 3",
   "language": "python",
   "name": "python3"
  },
  "language_info": {
   "codemirror_mode": {
    "name": "ipython",
    "version": 3
   },
   "file_extension": ".py",
   "mimetype": "text/x-python",
   "name": "python",
   "nbconvert_exporter": "python",
   "pygments_lexer": "ipython3",
   "version": "3.12.2"
  }
 },
 "nbformat": 4,
 "nbformat_minor": 2
}
