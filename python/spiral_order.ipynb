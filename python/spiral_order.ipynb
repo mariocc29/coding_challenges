{
 "cells": [
  {
   "cell_type": "markdown",
   "metadata": {},
   "source": [
    "# Challenge Notebook"
   ]
  },
  {
   "cell_type": "markdown",
   "metadata": {},
   "source": [
    "## Problem: Given an m x n matrix, return all elements of the matrix in spiral order.\n",
    "\n",
    "* [Constraints](#Constraints)\n",
    "* [Expected Result](#Expected-Result)\n",
    "* [Code](#Code)\n",
    "* [Unit Test](#Unit-Test)"
   ]
  },
  {
   "cell_type": "markdown",
   "metadata": {},
   "source": [
    "## Constraints\n",
    "\n",
    "* "
   ]
  },
  {
   "cell_type": "markdown",
   "metadata": {},
   "source": [
    "## Expected Result\n",
    "\n",
    "* [[1,2,3],[4,5,6],[7,8,9]] => [1,2,3,6,9,8,7,4,5]\n",
    "* [[1,2,3,4],[5,6,7,8],[9,10,11,12]] => [1,2,3,4,8,12,11,10,9,5,6,7]"
   ]
  },
  {
   "cell_type": "markdown",
   "metadata": {},
   "source": [
    "## Code"
   ]
  },
  {
   "cell_type": "code",
   "execution_count": 31,
   "metadata": {},
   "outputs": [],
   "source": [
    "def spiral_order(input) -> list:\n",
    "    output = list()\n",
    "\n",
    "    top = 0\n",
    "    left = 0\n",
    "    right = len(input[0]) - 1\n",
    "    bottom = len(input) - 1\n",
    "\n",
    "    total_elements = len(input) * len(input[0])\n",
    "\n",
    "    while len(output) < total_elements:\n",
    "        for index in range (left, right + 1):\n",
    "            output.append(input[top][index])\n",
    "        top += 1\n",
    "        \n",
    "        for index in range (top, bottom + 1):\n",
    "            output.append(input[index][right])\n",
    "        right -= 1\n",
    "\n",
    "        if (top <= bottom):\n",
    "            for index in range (right, left - 1, -1):\n",
    "                output.append(input[bottom][index])\n",
    "            bottom -= 1\n",
    "        \n",
    "        if (left <= right):\n",
    "            for index in range (bottom, top - 1, -1):\n",
    "                output.append(input[index][left])\n",
    "            left += 1\n",
    "\n",
    "    return output"
   ]
  },
  {
   "cell_type": "markdown",
   "metadata": {},
   "source": [
    "## Unit Test"
   ]
  },
  {
   "cell_type": "code",
   "execution_count": 30,
   "metadata": {},
   "outputs": [
    {
     "name": "stdout",
     "output_type": "stream",
     "text": [
      "9\n",
      "12\n"
     ]
    }
   ],
   "source": [
    "import unittest\n",
    "\n",
    "class TestSpiralOrder(unittest.TestCase):\n",
    "\n",
    "    def test_spiral_order(self, func):\n",
    "        self.assertEqual(func([[1,2,3],[4,5,6],[7,8,9]]), [1,2,3,6,9,8,7,4,5])\n",
    "        self.assertEqual(func([[1,2,3,4],[5,6,7,8],[9,10,11,12]]), [1,2,3,4,8,12,11,10,9,5,6,7])\n",
    "  \n",
    "def main():\n",
    "    test = TestSpiralOrder()\n",
    "    test.test_spiral_order(spiral_order)\n",
    "\n",
    "if __name__ == '__main__':\n",
    "    main()"
   ]
  }
 ],
 "metadata": {
  "kernelspec": {
   "display_name": "Python 3",
   "language": "python",
   "name": "python3"
  },
  "language_info": {
   "codemirror_mode": {
    "name": "ipython",
    "version": 3
   },
   "file_extension": ".py",
   "mimetype": "text/x-python",
   "name": "python",
   "nbconvert_exporter": "python",
   "pygments_lexer": "ipython3",
   "version": "3.12.3"
  }
 },
 "nbformat": 4,
 "nbformat_minor": 2
}
