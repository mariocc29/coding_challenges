{
 "cells": [
  {
   "cell_type": "markdown",
   "metadata": {},
   "source": [
    "# Challenge Notebook"
   ]
  },
  {
   "cell_type": "markdown",
   "metadata": {},
   "source": [
    "## Problem: Given the following dictionary of tuples, find the key that has the maximum value in the second position of each tuple.\n",
    "\n",
    "* [Constraints](#Constraints)\n",
    "* [Expected Result](#Expected-Result)\n",
    "* [Code](#Code)\n",
    "* [Unit Test](#Unit-Test)"
   ]
  },
  {
   "cell_type": "markdown",
   "metadata": {},
   "source": [
    "## Constraints\n",
    "\n",
    "* "
   ]
  },
  {
   "cell_type": "markdown",
   "metadata": {},
   "source": [
    "## Expected Result\n",
    "\n",
    "* {'a': (10, 5), 'b': (7, 15), 'c': (8, 8), 'd': (12, 3)} => b"
   ]
  },
  {
   "cell_type": "markdown",
   "metadata": {},
   "source": [
    "## Code"
   ]
  },
  {
   "cell_type": "code",
   "execution_count": 1,
   "metadata": {},
   "outputs": [],
   "source": [
    "def highest_tuple(dictionary: dict) -> int:\n",
    "    max_item = max(dictionary.items(), key=lambda item: sum(item[1]))\n",
    "    return max_item[0]"
   ]
  },
  {
   "cell_type": "markdown",
   "metadata": {},
   "source": [
    "## Unit Test"
   ]
  },
  {
   "cell_type": "code",
   "execution_count": 2,
   "metadata": {},
   "outputs": [],
   "source": [
    "import unittest\n",
    "\n",
    "class TestFunctionName(unittest.TestCase):\n",
    "\n",
    "    def test_highest_tuple(self, func):\n",
    "        self.assertEqual(func({'a': (10, 5), 'b': (7, 15), 'c': (8, 8), 'd': (12, 3)}), 'b')\n",
    "  \n",
    "def main():\n",
    "    test = TestFunctionName()\n",
    "    test.test_highest_tuple(highest_tuple)\n",
    "\n",
    "if __name__ == '__main__':\n",
    "    main()"
   ]
  }
 ],
 "metadata": {
  "kernelspec": {
   "display_name": "Python 3",
   "language": "python",
   "name": "python3"
  },
  "language_info": {
   "codemirror_mode": {
    "name": "ipython",
    "version": 3
   },
   "file_extension": ".py",
   "mimetype": "text/x-python",
   "name": "python",
   "nbconvert_exporter": "python",
   "pygments_lexer": "ipython3",
   "version": "3.12.2"
  }
 },
 "nbformat": 4,
 "nbformat_minor": 2
}
