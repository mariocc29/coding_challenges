{
 "cells": [
  {
   "cell_type": "markdown",
   "metadata": {},
   "source": [
    "# Challenge Notebook"
   ]
  },
  {
   "cell_type": "markdown",
   "metadata": {},
   "source": [
    "## Problem: Write a function named decode(message_file). This function should read an encoded message from a .txt file and return its decoded version as a string.\n",
    "\n",
    "* [Constraints](#Constraints)\n",
    "* [Expected Result](#Expected-Result)\n",
    "* [Code](#Code)\n",
    "* [Unit Test](#Unit-Test)"
   ]
  },
  {
   "cell_type": "markdown",
   "metadata": {},
   "source": [
    "## Constraints\n",
    "\n",
    "* The task is to decode a hidden message based on the arrangement of these numbers into a \"pyramid\" structure. The numbers are placed into the pyramid in ascending order, with each line of the pyramid having one more number than the line above it. The smallest number is 1, and the numbers increase consecutively\n",
    "* The key to decoding the message is to use the words corresponding to the numbers at the end of each pyramid line"
   ]
  },
  {
   "cell_type": "markdown",
   "metadata": {},
   "source": [
    "## Expected Result\n",
    "\n",
    "* \"3 love\\n6 computers\\n2 dogs\\n4 cats\\n1 I\\n5 you\" => I love computers"
   ]
  },
  {
   "cell_type": "markdown",
   "metadata": {},
   "source": [
    "## Code"
   ]
  },
  {
   "cell_type": "code",
   "execution_count": 1,
   "metadata": {},
   "outputs": [],
   "source": [
    "def decode(message_file: str) -> str:\n",
    "\t\"\"\"\n",
    "\tDecodes a message from a file containing serialized content.\n",
    "\n",
    "\tArgs:\n",
    "\t\tmessage_file (str): Path to the file containing serialized content.\n",
    "\n",
    "\tReturns:\n",
    "\t\tstr: Decoded message.\n",
    "\t\n",
    "\tRaises:\n",
    "\t\tFileNotFoundError: If the specified file is not found.\n",
    "\t\tValueError: If there is an issue with the file content format.\n",
    "\t\"\"\"\n",
    "\n",
    "\ttry:\n",
    "\t\t# Read file content and split lines\n",
    "\t\twith open(message_file, 'r') as file:\n",
    "\t\t\tfile_content = file.read().split('\\n')\n",
    "\n",
    "        # Deserialize content into a dictionary\n",
    "\t\tserialized_content = {key: value for key, value in (line.split(' ') for line in file_content)}\n",
    "\n",
    "\t\t# Create a pyramid structure from keys\n",
    "\t\tkeys = list(serialized_content.keys())\n",
    "\t\tkeys.sort()\n",
    "\t\tpyramid = list()\n",
    "\t\tstep = 1\n",
    "\n",
    "\t\twhile len(keys) > 0:\n",
    "\t\t\tif len(keys) >= step:\n",
    "\t\t\t\tpyramid.append(keys[0:step])\n",
    "\t\t\t\tkeys = keys[step:]\n",
    "\t\t\t\tstep += 1\n",
    "\n",
    "\t\t# Decode message using the pyramid structure\n",
    "\t\tdecoded_message = ' '.join([serialized_content[max(key)] for key in pyramid])\n",
    "\n",
    "\t\treturn decoded_message\n",
    "\texcept FileNotFoundError:\n",
    "\t\traise FileNotFoundError(f\"The file '{message_file}' was not found.\")\n",
    "\texcept ValueError:\n",
    "\t\traise ValueError(\"There was an issue with the file content format.\")"
   ]
  },
  {
   "cell_type": "markdown",
   "metadata": {},
   "source": [
    "## Unit Test"
   ]
  },
  {
   "cell_type": "code",
   "execution_count": 2,
   "metadata": {},
   "outputs": [],
   "source": [
    "import unittest\n",
    "from unittest.mock import patch\n",
    "from io import StringIO\n",
    "import os\n",
    "\n",
    "class TestDecode(unittest.TestCase):\n",
    "    def setUp(self):\n",
    "        # Create a temporary file with sample content\n",
    "        self.temp_file_path = \"temp_test_file.txt\"\n",
    "        with open(self.temp_file_path, 'w') as temp_file:\n",
    "            temp_file.write(\"3 love\\n6 computers\\n2 dogs\\n4 cats\\n1 I\\n5 you\")\n",
    "\n",
    "    def tearDown(self):\n",
    "        # Remove the temporary file after testing\n",
    "        if os.path.exists(self.temp_file_path):\n",
    "            os.remove(self.temp_file_path)\n",
    "\n",
    "    def test_decode_message(self, func):\n",
    "        self.assertEqual(func(self.temp_file_path), 'I love computers')\n",
    "\n",
    "def main():\n",
    "    test = TestDecode()\n",
    "    test.setUp()\n",
    "    test.test_decode_message(decode)\n",
    "    test.tearDown()\n",
    "\n",
    "if __name__ == '__main__':\n",
    "    main()"
   ]
  }
 ],
 "metadata": {
  "kernelspec": {
   "display_name": "Python 3",
   "language": "python",
   "name": "python3"
  },
  "language_info": {
   "codemirror_mode": {
    "name": "ipython",
    "version": 3
   },
   "file_extension": ".py",
   "mimetype": "text/x-python",
   "name": "python",
   "nbconvert_exporter": "python",
   "pygments_lexer": "ipython3",
   "version": "3.12.2"
  }
 },
 "nbformat": 4,
 "nbformat_minor": 2
}
