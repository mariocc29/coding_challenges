{
 "cells": [
  {
   "cell_type": "markdown",
   "metadata": {},
   "source": [
    "# Challenge Notebook"
   ]
  },
  {
   "cell_type": "markdown",
   "metadata": {},
   "source": [
    "## Problem: Suppose you have a ladder with n rungs. Write a Python function that takes a positive number n as input and returns the number of unique ways you can climb the ladder.\n",
    "\n",
    "* [Constraints](#Constraints)\n",
    "* [Expected Result](#Expected-Result)\n",
    "* [Code](#Code)\n",
    "* [Unit Test](#Unit-Test)"
   ]
  },
  {
   "cell_type": "markdown",
   "metadata": {},
   "source": [
    "## Constraints\n",
    "\n",
    "* You can climb the rungs one at a time or two at a time."
   ]
  },
  {
   "cell_type": "markdown",
   "metadata": {},
   "source": [
    "## Expected Result\n",
    "\n",
    "* 2 => 2\n",
    "* 3 => 2\n",
    "* 10 => 55"
   ]
  },
  {
   "cell_type": "markdown",
   "metadata": {},
   "source": [
    "## Code"
   ]
  },
  {
   "cell_type": "code",
   "execution_count": 1,
   "metadata": {},
   "outputs": [],
   "source": [
    "def count_ways_to_climb_stairs(number: int) -> int:\n",
    "    if number <= 2:\n",
    "        return number\n",
    "    \n",
    "    rungs = dict({0: 0, 1: 1})\n",
    "\n",
    "    for index in range(2, number + 1):\n",
    "        rungs[index] = rungs[index - 2] + rungs[index - 1]\n",
    "\n",
    "    return rungs[number]"
   ]
  },
  {
   "cell_type": "markdown",
   "metadata": {},
   "source": [
    "## Unit Test"
   ]
  },
  {
   "cell_type": "code",
   "execution_count": 2,
   "metadata": {},
   "outputs": [],
   "source": [
    "import unittest\n",
    "\n",
    "class TestFunctionName(unittest.TestCase):\n",
    "\n",
    "    def test_count_ways_to_climb_stairs(self, func):\n",
    "        self.assertEqual(func(2), 2)\n",
    "        self.assertEqual(func(3), 2)\n",
    "        self.assertEqual(func(10), 55)\n",
    "  \n",
    "def main():\n",
    "    test = TestFunctionName()\n",
    "    test.test_count_ways_to_climb_stairs(count_ways_to_climb_stairs)\n",
    "\n",
    "if __name__ == '__main__':\n",
    "    main()"
   ]
  }
 ],
 "metadata": {
  "kernelspec": {
   "display_name": "Python 3",
   "language": "python",
   "name": "python3"
  },
  "language_info": {
   "codemirror_mode": {
    "name": "ipython",
    "version": 3
   },
   "file_extension": ".py",
   "mimetype": "text/x-python",
   "name": "python",
   "nbconvert_exporter": "python",
   "pygments_lexer": "ipython3",
   "version": "3.12.2"
  }
 },
 "nbformat": 4,
 "nbformat_minor": 2
}
